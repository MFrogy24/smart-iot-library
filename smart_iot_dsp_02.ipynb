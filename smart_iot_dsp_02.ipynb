{
  "nbformat": 4,
  "nbformat_minor": 0,
  "metadata": {
    "colab": {
      "name": "smart-iot-dsp-02.ipynb",
      "provenance": []
    },
    "kernelspec": {
      "name": "python3",
      "display_name": "Python 3"
    },
    "language_info": {
      "name": "python"
    }
  },
  "cells": [
    {
      "cell_type": "code",
      "execution_count": 2,
      "metadata": {
        "colab": {
          "base_uri": "https://localhost:8080/"
        },
        "id": "wAsOtUk76On5",
        "outputId": "f6a65087-a342-4d2d-8437-101f988c5c4a"
      },
      "outputs": [
        {
          "output_type": "stream",
          "name": "stdout",
          "text": [
            "--2022-07-27 00:17:38--  https://raw.githubusercontent.com/MFrogy24/smart-iot-library/main/smartiot02.py\n",
            "Resolving raw.githubusercontent.com (raw.githubusercontent.com)... 185.199.109.133, 185.199.111.133, 185.199.108.133, ...\n",
            "Connecting to raw.githubusercontent.com (raw.githubusercontent.com)|185.199.109.133|:443... connected.\n",
            "HTTP request sent, awaiting response... 200 OK\n",
            "Length: 115 [text/plain]\n",
            "Failed to rename smartiot02.py to smartiot02.py.1: (2) No such file or directory\n",
            "Saving to: ‘smartiot02.py’\n",
            "\n",
            "smartiot02.py       100%[===================>]     115  --.-KB/s    in 0s      \n",
            "\n",
            "2022-07-27 00:17:38 (3.15 MB/s) - ‘smartiot02.py’ saved [115/115]\n",
            "\n"
          ]
        }
      ],
      "source": [
        "url = 'https://raw.githubusercontent.com/MFrogy24/smart-iot-library/main/smartiot02.py'\n",
        "!wget --no-cache --backups=1 {url}"
      ]
    },
    {
      "cell_type": "code",
      "source": [
        "import smartiot02\n",
        "\n",
        "smartiot02.version()"
      ],
      "metadata": {
        "colab": {
          "base_uri": "https://localhost:8080/"
        },
        "id": "61G2noELAYnA",
        "outputId": "5e5b75c2-9197-4565-9d1d-fcad328f7d98"
      },
      "execution_count": 3,
      "outputs": [
        {
          "output_type": "stream",
          "name": "stdout",
          "text": [
            "Smart Iot Library ver. 1.0\n"
          ]
        }
      ]
    },
    {
      "cell_type": "code",
      "source": [
        "help(smartiot02)"
      ],
      "metadata": {
        "colab": {
          "base_uri": "https://localhost:8080/"
        },
        "id": "WPFEx0OsBLQ-",
        "outputId": "4c14ddea-25f7-487a-a7d3-fe223ffdd59f"
      },
      "execution_count": 4,
      "outputs": [
        {
          "output_type": "stream",
          "name": "stdout",
          "text": [
            "Help on module smartiot02:\n",
            "\n",
            "NAME\n",
            "    smartiot02 - # Smart IoT Library\n",
            "\n",
            "FUNCTIONS\n",
            "    version()\n",
            "        Shows Smart IoT library version\n",
            "\n",
            "FILE\n",
            "    /content/smartiot02.py\n",
            "\n",
            "\n"
          ]
        }
      ]
    }
  ]
}